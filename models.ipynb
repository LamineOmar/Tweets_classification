{
 "cells": [
  {
   "cell_type": "code",
   "execution_count": 56,
   "id": "49a7b241-b8af-44ff-8a0c-1a0ac7759629",
   "metadata": {
    "id": "49a7b241-b8af-44ff-8a0c-1a0ac7759629"
   },
   "outputs": [],
   "source": [
    "# now we have to preprocess the second data set\n",
    "import pandas as pd\n",
    "import numpy as np\n",
    "import matplotlib.pyplot as plt\n",
    "import seaborn as sns\n",
    "\n",
    "# #Sklearn\n",
    "from sklearn.model_selection import train_test_split\n",
    "from sklearn.metrics import  f1_score\n",
    "\n",
    "from sklearn.tree import DecisionTreeClassifier\n",
    "from sklearn.linear_model import LogisticRegression\n",
    "from sklearn.ensemble import RandomForestClassifier\n",
    "\n",
    "#filter warnings\n",
    "import warnings\n",
    "warnings.filterwarnings('ignore')"
   ]
  },
  {
   "cell_type": "code",
   "execution_count": 57,
   "id": "e441c4a9-f9ee-4dde-90a5-f7a1b679510d",
   "metadata": {
    "id": "e441c4a9-f9ee-4dde-90a5-f7a1b679510d"
   },
   "outputs": [],
   "source": [
    "data1 = pd.read_csv(\"data1final.csv\")\n",
    "# data2 = pd.read_csv(\"data2final.csv\")\n",
    "data3 = pd.read_csv(\"data3final.csv\")\n",
    "data4 = pd.read_csv(\"data4final.csv\")"
   ]
  },
  {
   "cell_type": "code",
   "execution_count": 58,
   "id": "79484676-74be-436a-8903-4132507aa45a",
   "metadata": {
    "id": "79484676-74be-436a-8903-4132507aa45a"
   },
   "outputs": [],
   "source": [
    "data = pd.concat([data1, data3, data4], ignore_index=True)"
   ]
  },
  {
   "cell_type": "code",
   "execution_count": 59,
   "id": "5601a329-db9e-4a97-aac9-7e541a914ac7",
   "metadata": {
    "colab": {
     "base_uri": "https://localhost:8080/"
    },
    "id": "5601a329-db9e-4a97-aac9-7e541a914ac7",
    "outputId": "a12ad8c0-588c-47e4-b1e0-626c1acf69ba"
   },
   "outputs": [
    {
     "data": {
      "text/plain": [
       "Unnamed: 0         0\n",
       "Tweet              0\n",
       "target             0\n",
       "tokenized_tweet    0\n",
       "cleaned_tweet      0\n",
       "dtype: int64"
      ]
     },
     "execution_count": 59,
     "metadata": {},
     "output_type": "execute_result"
    }
   ],
   "source": [
    "data = data.dropna()\n",
    "data.isna().sum()"
   ]
  },
  {
   "cell_type": "code",
   "execution_count": 60,
   "id": "50f767a9-a648-411e-85ae-01a9df353337",
   "metadata": {
    "colab": {
     "base_uri": "https://localhost:8080/"
    },
    "id": "50f767a9-a648-411e-85ae-01a9df353337",
    "outputId": "1e001fff-2e82-4abb-febb-20c4d172e5c6"
   },
   "outputs": [
    {
     "data": {
      "text/plain": [
       "target\n",
       "1    9315\n",
       "0    7424\n",
       "Name: count, dtype: int64"
      ]
     },
     "execution_count": 60,
     "metadata": {},
     "output_type": "execute_result"
    }
   ],
   "source": [
    "\n",
    "data['target'] = data['target'].replace(-1, 0)\n",
    "data[\"target\"].value_counts()"
   ]
  },
  {
   "cell_type": "code",
   "execution_count": 61,
   "id": "37e96790-a06f-4c2c-a0b0-60ca673f8d4a",
   "metadata": {},
   "outputs": [],
   "source": [
    "\n",
    "# # Sample 10,000 positive samples\n",
    "# positive_samples = data[data['target'] == 1].sample(n=10000, random_state=42)\n",
    "\n",
    "# # Include all negative samples\n",
    "# negative_samples = data[data['target'] == 0]\n",
    "\n",
    "# # Concatenate positive and negative samples\n",
    "# balanced_data = pd.concat([positive_samples, negative_samples], ignore_index=True)\n",
    "\n",
    "# # Shuffle the dataset\n",
    "# data = balanced_data.sample(frac=1, random_state=42).reset_index(drop=True)\n"
   ]
  },
  {
   "cell_type": "code",
   "execution_count": 62,
   "id": "64ba97e5-c595-46bd-98a9-831e79953641",
   "metadata": {
    "colab": {
     "base_uri": "https://localhost:8080/",
     "height": 275
    },
    "id": "64ba97e5-c595-46bd-98a9-831e79953641",
    "outputId": "0ee141a0-73b4-474e-ffda-ed96a4e540d5"
   },
   "outputs": [
    {
     "data": {
      "text/html": [
       "<div>\n",
       "<style scoped>\n",
       "    .dataframe tbody tr th:only-of-type {\n",
       "        vertical-align: middle;\n",
       "    }\n",
       "\n",
       "    .dataframe tbody tr th {\n",
       "        vertical-align: top;\n",
       "    }\n",
       "\n",
       "    .dataframe thead th {\n",
       "        text-align: right;\n",
       "    }\n",
       "</style>\n",
       "<table border=\"1\" class=\"dataframe\">\n",
       "  <thead>\n",
       "    <tr style=\"text-align: right;\">\n",
       "      <th></th>\n",
       "      <th>Unnamed: 0</th>\n",
       "      <th>Tweet</th>\n",
       "      <th>target</th>\n",
       "      <th>tokenized_tweet</th>\n",
       "      <th>cleaned_tweet</th>\n",
       "    </tr>\n",
       "  </thead>\n",
       "  <tbody>\n",
       "    <tr>\n",
       "      <th>16736</th>\n",
       "      <td>8432</td>\n",
       "      <td>\"RT @iDhmi: #توصيات_تويتسو تطبيق يوتيوب الأطفا...</td>\n",
       "      <td>1</td>\n",
       "      <td>توصيات تويتسو تطبيق يوتيوب الأطفال جوجل يعرض ا...</td>\n",
       "      <td>['توصيات', 'تويتسو', 'تطبيق', 'يوتيوب', 'الأطف...</td>\n",
       "    </tr>\n",
       "    <tr>\n",
       "      <th>16737</th>\n",
       "      <td>8433</td>\n",
       "      <td>سي:#إبراهيم_محلب يشارك باحتفالية تنزانيا بمناس...</td>\n",
       "      <td>1</td>\n",
       "      <td>سي إبراهيم محلب يشارك باحتفالية تنزانيا بمناسب...</td>\n",
       "      <td>['سي', 'إبراهيم', 'محلب', 'يشارك', 'باحتفالية'...</td>\n",
       "    </tr>\n",
       "    <tr>\n",
       "      <th>16738</th>\n",
       "      <td>8434</td>\n",
       "      <td>\"كلب إسرائيل وسيفها الإرهابي بوتن قاتل النساء ...</td>\n",
       "      <td>0</td>\n",
       "      <td>كلب إسرائيل وسيفها الإرهابي بوتن قاتل النساء و...</td>\n",
       "      <td>['كلب', 'إسرائيل', 'وسيفها', 'الإرهابي', 'بوتن...</td>\n",
       "    </tr>\n",
       "    <tr>\n",
       "      <th>16739</th>\n",
       "      <td>8435</td>\n",
       "      <td>\"احمد فتفت مغضوب بمجرد اعترضو ميشال عون . (ديم...</td>\n",
       "      <td>0</td>\n",
       "      <td>احمد فتفت مغضوب بمجرد اعترضو ميشال عون ديمقراطيه</td>\n",
       "      <td>['احمد', 'فتفت', 'مغضوب', 'بمجرد', 'اعترضو', '...</td>\n",
       "    </tr>\n",
       "    <tr>\n",
       "      <th>16740</th>\n",
       "      <td>8436</td>\n",
       "      <td>\"قناة آسيا: مندوب #سوريا #الأمم_المتحدة بشار ا...</td>\n",
       "      <td>0</td>\n",
       "      <td>قناة آسيا مندوب سوريا الأمم المتحدة بشار الجعف...</td>\n",
       "      <td>['قناة', 'آسيا', 'مندوب', 'سوريا', 'الأمم', 'ا...</td>\n",
       "    </tr>\n",
       "  </tbody>\n",
       "</table>\n",
       "</div>"
      ],
      "text/plain": [
       "       Unnamed: 0                                              Tweet  target  \\\n",
       "16736        8432  \"RT @iDhmi: #توصيات_تويتسو تطبيق يوتيوب الأطفا...       1   \n",
       "16737        8433  سي:#إبراهيم_محلب يشارك باحتفالية تنزانيا بمناس...       1   \n",
       "16738        8434  \"كلب إسرائيل وسيفها الإرهابي بوتن قاتل النساء ...       0   \n",
       "16739        8435  \"احمد فتفت مغضوب بمجرد اعترضو ميشال عون . (ديم...       0   \n",
       "16740        8436  \"قناة آسيا: مندوب #سوريا #الأمم_المتحدة بشار ا...       0   \n",
       "\n",
       "                                         tokenized_tweet  \\\n",
       "16736  توصيات تويتسو تطبيق يوتيوب الأطفال جوجل يعرض ا...   \n",
       "16737  سي إبراهيم محلب يشارك باحتفالية تنزانيا بمناسب...   \n",
       "16738  كلب إسرائيل وسيفها الإرهابي بوتن قاتل النساء و...   \n",
       "16739   احمد فتفت مغضوب بمجرد اعترضو ميشال عون ديمقراطيه   \n",
       "16740  قناة آسيا مندوب سوريا الأمم المتحدة بشار الجعف...   \n",
       "\n",
       "                                           cleaned_tweet  \n",
       "16736  ['توصيات', 'تويتسو', 'تطبيق', 'يوتيوب', 'الأطف...  \n",
       "16737  ['سي', 'إبراهيم', 'محلب', 'يشارك', 'باحتفالية'...  \n",
       "16738  ['كلب', 'إسرائيل', 'وسيفها', 'الإرهابي', 'بوتن...  \n",
       "16739  ['احمد', 'فتفت', 'مغضوب', 'بمجرد', 'اعترضو', '...  \n",
       "16740  ['قناة', 'آسيا', 'مندوب', 'سوريا', 'الأمم', 'ا...  "
      ]
     },
     "execution_count": 62,
     "metadata": {},
     "output_type": "execute_result"
    }
   ],
   "source": [
    "data.tail()"
   ]
  },
  {
   "cell_type": "code",
   "execution_count": 63,
   "id": "01d3c1ef-5a2d-4717-a35f-e5cce3ee0c82",
   "metadata": {
    "id": "01d3c1ef-5a2d-4717-a35f-e5cce3ee0c82"
   },
   "outputs": [],
   "source": [
    "dataf = data[[\"tokenized_tweet\",\"target\"]]"
   ]
  },
  {
   "cell_type": "code",
   "execution_count": 64,
   "id": "3e330b43",
   "metadata": {},
   "outputs": [
    {
     "data": {
      "text/html": [
       "<div>\n",
       "<style scoped>\n",
       "    .dataframe tbody tr th:only-of-type {\n",
       "        vertical-align: middle;\n",
       "    }\n",
       "\n",
       "    .dataframe tbody tr th {\n",
       "        vertical-align: top;\n",
       "    }\n",
       "\n",
       "    .dataframe thead th {\n",
       "        text-align: right;\n",
       "    }\n",
       "</style>\n",
       "<table border=\"1\" class=\"dataframe\">\n",
       "  <thead>\n",
       "    <tr style=\"text-align: right;\">\n",
       "      <th></th>\n",
       "      <th>tokenized_tweet</th>\n",
       "      <th>target</th>\n",
       "    </tr>\n",
       "  </thead>\n",
       "  <tbody>\n",
       "    <tr>\n",
       "      <th>0</th>\n",
       "      <td>mealem bourjilia illi yefehmouch yelzmou yaqra...</td>\n",
       "      <td>1</td>\n",
       "    </tr>\n",
       "    <tr>\n",
       "      <th>1</th>\n",
       "      <td>ya mealllam</td>\n",
       "      <td>1</td>\n",
       "    </tr>\n",
       "    <tr>\n",
       "      <th>2</th>\n",
       "      <td>mahlek zin fannena hloua</td>\n",
       "      <td>1</td>\n",
       "    </tr>\n",
       "    <tr>\n",
       "      <th>3</th>\n",
       "      <td>hhhhh bliiiiiiiida hanen</td>\n",
       "      <td>0</td>\n",
       "    </tr>\n",
       "    <tr>\n",
       "      <th>4</th>\n",
       "      <td>nikraha makhyebha pffff</td>\n",
       "      <td>0</td>\n",
       "    </tr>\n",
       "  </tbody>\n",
       "</table>\n",
       "</div>"
      ],
      "text/plain": [
       "                                     tokenized_tweet  target\n",
       "0  mealem bourjilia illi yefehmouch yelzmou yaqra...       1\n",
       "1                                        ya mealllam       1\n",
       "2                           mahlek zin fannena hloua       1\n",
       "3                           hhhhh bliiiiiiiida hanen       0\n",
       "4                            nikraha makhyebha pffff       0"
      ]
     },
     "execution_count": 64,
     "metadata": {},
     "output_type": "execute_result"
    }
   ],
   "source": [
    "dataf.head()"
   ]
  },
  {
   "cell_type": "code",
   "execution_count": 65,
   "id": "52fce692-9bb3-4ee4-8482-293d21822658",
   "metadata": {
    "id": "52fce692-9bb3-4ee4-8482-293d21822658"
   },
   "outputs": [],
   "source": [
    "tweets_train, tweets_test, target_train, target_test = train_test_split(data.tokenized_tweet,data.target,test_size = 0.2)"
   ]
  },
  {
   "cell_type": "markdown",
   "id": "e5a93696-b25a-4ea5-a38e-9aa04193f7f4",
   "metadata": {
    "id": "e5a93696-b25a-4ea5-a38e-9aa04193f7f4"
   },
   "source": [
    "Text processing can be done using the following techniques:\n",
    "\n",
    "- Bag of Words\n",
    "\n",
    "- TF-IDF\n",
    "\n",
    "- Word2Vec"
   ]
  },
  {
   "cell_type": "markdown",
   "id": "9326dc29-be2f-4b4f-8a15-f85882638f44",
   "metadata": {
    "id": "9326dc29-be2f-4b4f-8a15-f85882638f44"
   },
   "source": [
    "## Bag Of Words"
   ]
  },
  {
   "cell_type": "code",
   "execution_count": 66,
   "id": "e8a5096e-7c5e-49b9-93a5-acff1d50c822",
   "metadata": {
    "colab": {
     "base_uri": "https://localhost:8080/"
    },
    "id": "e8a5096e-7c5e-49b9-93a5-acff1d50c822",
    "outputId": "b97abfa3-9ab7-45c1-a2d4-444542063604"
   },
   "outputs": [
    {
     "data": {
      "text/plain": [
       "16632    أردوغان للعبادي اعرف حدودك ولن نأخذ أوامر بشأن...\n",
       "16197    أناشد الجميع الابتعاد الاقتتال الأهلي والالتزا...\n",
       "613      brabi ken fema kilma ghir msata qouloli bil wa...\n",
       "8583                          النون نستنكر ندين نشجب نوافق\n",
       "3707                              عبد الفتاح نحبوك نحترموك\n",
       "Name: tokenized_tweet, dtype: object"
      ]
     },
     "execution_count": 66,
     "metadata": {},
     "output_type": "execute_result"
    }
   ],
   "source": [
    "tweets_train.head()"
   ]
  },
  {
   "cell_type": "code",
   "execution_count": 67,
   "id": "1a62a435-63c2-4b90-a030-f7fa26c069cc",
   "metadata": {
    "id": "1a62a435-63c2-4b90-a030-f7fa26c069cc"
   },
   "outputs": [],
   "source": [
    "from sklearn.feature_extraction.text import CountVectorizer\n",
    "\n",
    "bow=CountVectorizer(lowercase=True, min_df=2, max_features=1000)\n",
    "#bow.fit(tweets_train)\n",
    "bow_df=bow.fit_transform(tweets_train).toarray()"
   ]
  },
  {
   "cell_type": "code",
   "execution_count": 68,
   "id": "afee2225",
   "metadata": {},
   "outputs": [
    {
     "data": {
      "text/plain": [
       "['bow.joblib']"
      ]
     },
     "execution_count": 68,
     "metadata": {},
     "output_type": "execute_result"
    }
   ],
   "source": [
    "import joblib\n",
    "joblib.dump(bow, 'bow.joblib')"
   ]
  },
  {
   "cell_type": "code",
   "execution_count": 69,
   "id": "ee642dc2-59dc-42f1-b100-34513d55b98c",
   "metadata": {
    "id": "ee642dc2-59dc-42f1-b100-34513d55b98c"
   },
   "outputs": [],
   "source": [
    "target_train =np.array(target_train)"
   ]
  },
  {
   "cell_type": "code",
   "execution_count": 53,
   "id": "42ac5917-d48f-4f3f-8bec-007cea68a5ac",
   "metadata": {
    "colab": {
     "base_uri": "https://localhost:8080/"
    },
    "id": "42ac5917-d48f-4f3f-8bec-007cea68a5ac",
    "outputId": "cdca8a13-c66a-4bd5-8155-0c475c3ac295"
   },
   "outputs": [
    {
     "data": {
      "text/plain": [
       "array([0, 1, 0, ..., 1, 1, 0], dtype=int64)"
      ]
     },
     "execution_count": 53,
     "metadata": {},
     "output_type": "execute_result"
    }
   ],
   "source": [
    "lreg = LogisticRegression()\n",
    "lreg.fit(bow_df, np.array(target_train)) # training the model\n",
    "\n",
    "prediction = lreg.predict(bow_df) # predicting on the validation set\n",
    "#prediction_int = prediction[:,1] >= 0.3 # if prediction is greater than or equal to 0.3 than 1 else 0\n",
    "#prediction_int = prediction_int.astype(np.int64)\n",
    "prediction\n",
    "#f1_score(target_train, prediction_int)"
   ]
  },
  {
   "cell_type": "code",
   "execution_count": 21,
   "id": "ab312b0c-6508-4300-ba91-ba446f3d5f25",
   "metadata": {
    "colab": {
     "base_uri": "https://localhost:8080/"
    },
    "id": "ab312b0c-6508-4300-ba91-ba446f3d5f25",
    "outputId": "19c5c3e9-c24a-4d5e-8133-de99b03d41a8"
   },
   "outputs": [
    {
     "name": "stdout",
     "output_type": "stream",
     "text": [
      "Precision: 66.82%\n",
      "Recall: 97.02%\n",
      "F1 Score: 79.13%\n"
     ]
    }
   ],
   "source": [
    "from sklearn.metrics import confusion_matrix,f1_score, precision_score,recall_score\n",
    "\n",
    "cf_matrix =confusion_matrix(target_train,prediction_int)\n",
    "\n",
    "tn, fp, fn, tp = confusion_matrix(target_train,prediction_int).ravel()\n",
    "\n",
    "print(\"Precision: {:.2f}%\".format(100 * precision_score(target_train, prediction_int)))\n",
    "print(\"Recall: {:.2f}%\".format(100 * recall_score(target_train, prediction_int)))\n",
    "print(\"F1 Score: {:.2f}%\".format(100 * f1_score(target_train,prediction_int)))"
   ]
  },
  {
   "cell_type": "code",
   "execution_count": 22,
   "id": "9ad847e9-12aa-4dc7-90fb-794cf1327b43",
   "metadata": {
    "colab": {
     "base_uri": "https://localhost:8080/",
     "height": 472
    },
    "id": "9ad847e9-12aa-4dc7-90fb-794cf1327b43",
    "outputId": "9a7681f3-a4dd-4f63-fca1-2b1822b2fbac"
   },
   "outputs": [
    {
     "data": {
      "text/plain": [
       "[Text(0, 0.5, 'Positive'), Text(0, 1.5, 'Negative')]"
      ]
     },
     "execution_count": 22,
     "metadata": {},
     "output_type": "execute_result"
    },
    {
     "data": {
      "image/png": "[encoded data removed]",
      "text/plain": [
       "<Figure size 640x480 with 2 Axes>"
      ]
     },
     "metadata": {},
     "output_type": "display_data"
    }
   ],
   "source": [
    "\n",
    "ax= plt.subplot()\n",
    "#annot=True to annotate cells\n",
    "sns.heatmap(cf_matrix, annot=True, ax = ax,cmap='Blues',fmt='')\n",
    "\n",
    "# labels, title and ticks\n",
    "ax.set_xlabel('Predicted labels')\n",
    "ax.set_ylabel('True labels')\n",
    "ax.set_title('Confusion Matrix')\n",
    "ax.xaxis.set_ticklabels(['Positive', 'Negative']); ax.yaxis.set_ticklabels(['Positive', 'Negative'])"
   ]
  },
  {
   "cell_type": "code",
   "execution_count": 23,
   "id": "a0017c53-6d13-4e75-a344-e6cfc282d20e",
   "metadata": {
    "id": "a0017c53-6d13-4e75-a344-e6cfc282d20e",
    "outputId": "aab765ac-5a82-4f92-d626-5ba2f222385b"
   },
   "outputs": [
    {
     "data": {
      "text/plain": [
       "['tweets_model.joblib']"
      ]
     },
     "execution_count": 23,
     "metadata": {},
     "output_type": "execute_result"
    }
   ],
   "source": [
    "import joblib\n",
    "\n",
    "joblib.dump(lreg, 'tweets_model.joblib')"
   ]
  },
  {
   "cell_type": "code",
   "execution_count": 20,
   "id": "1967792b-f083-432f-8648-f512113d13ae",
   "metadata": {
    "colab": {
     "base_uri": "https://localhost:8080/"
    },
    "id": "1967792b-f083-432f-8648-f512113d13ae",
    "outputId": "6b8497dc-4fca-4af9-857d-135407008b7d"
   },
   "outputs": [
    {
     "name": "stdout",
     "output_type": "stream",
     "text": [
      "F1 Score for Random Forest: 0.8912782316194138\n",
      "F1 Score for Decision Tree: 0.9070918086860912\n"
     ]
    }
   ],
   "source": [
    "\n",
    "\n",
    "# Define models\n",
    "models = {\n",
    "    # \"Logistic Regression\": LogisticRegression(),\n",
    "    # \"SVM\": SVC(probability=True),  # probability=True to enable probability estimates\n",
    "    \"Random Forest\": RandomForestClassifier(),\n",
    "    \"Decision Tree\": DecisionTreeClassifier()\n",
    "}\n",
    "\n",
    "# Train and evaluate each model\n",
    "for name, model in models.items():\n",
    "    model.fit(bow_df, target_train)\n",
    "    prediction = model.predict_proba(bow_df)\n",
    "    prediction_int = prediction[:,1] >= 0.3\n",
    "    prediction_int = prediction_int.astype(np.int64)\n",
    "    f1 = f1_score(target_train, prediction_int)\n",
    "    joblib.dump(lreg, f'tweets_model{name}.joblib')\n",
    "    print(f\"F1 Score for {name}: {f1}\")\n"
   ]
  },
  {
   "cell_type": "code",
   "execution_count": 24,
   "id": "9ad3da1c",
   "metadata": {},
   "outputs": [
    {
     "name": "stderr",
     "output_type": "stream",
     "text": [
      "[nltk_data] Downloading package stopwords to\n",
      "[nltk_data]     C:\\Users\\el\\AppData\\Roaming\\nltk_data...\n",
      "[nltk_data]   Package stopwords is already up-to-date!\n"
     ]
    },
    {
     "data": {
      "text/plain": [
       "True"
      ]
     },
     "execution_count": 24,
     "metadata": {},
     "output_type": "execute_result"
    }
   ],
   "source": [
    "import nltk\n",
    "nltk.download('stopwords')\n"
   ]
  },
  {
   "cell_type": "code",
   "execution_count": 25,
   "id": "529dbe99-9514-4427-981d-a9f75773026c",
   "metadata": {},
   "outputs": [
    {
     "name": "stderr",
     "output_type": "stream",
     "text": [
      "[nltk_data] Downloading package wordnet to\n",
      "[nltk_data]     C:\\Users\\el\\AppData\\Roaming\\nltk_data...\n",
      "[nltk_data]   Package wordnet is already up-to-date!\n"
     ]
    },
    {
     "data": {
      "text/plain": [
       "True"
      ]
     },
     "execution_count": 25,
     "metadata": {},
     "output_type": "execute_result"
    }
   ],
   "source": [
    "import nltk\n",
    "from nltk.stem import WordNetLemmatizer\n",
    "from nltk.corpus import stopwords\n",
    "lemma = WordNetLemmatizer()\n",
    "stop_words = stopwords.words(\"english\")\n",
    "nltk.download('wordnet')"
   ]
  },
  {
   "cell_type": "code",
   "execution_count": 33,
   "id": "9d101fff-5248-4220-9398-4e02b8c45d2d",
   "metadata": {},
   "outputs": [
    {
     "name": "stdout",
     "output_type": "stream",
     "text": [
      "[[0 0 0 0 0 0 0 0 0 0 0 0 0 0 0 0 0 0 0 0 0 0 0 0 0 0 0 0 0 0 0 0 0 0 0 0\n",
      "  0 0 0 0 0 0 0 0 0 0 0 0 0 0 0 0 0 0 0 0 0 0 0 0 0 0 0 0 0 0 0 0 0 0 0 0\n",
      "  0 0 0 0 0 0 0 0 0 0 0 0 0 0 0 0 0 0 0 0 0 0 0 0 0 0 0 0 0 0 0 0 0 0 0 0\n",
      "  0 0 0 0 0 0 0 0 0 0 0 0 0 0 0 0 0 0 0 0 0 0 0 0 0 0 0 0 0 0 0 0 0 0 0 0\n",
      "  0 0 0 0 0 0 0 0 0 0 0 0 0 0 0 0 0 0 0 0 0 0 0 0 0 0 0 0 0 0 0 0 0 0 0 0\n",
      "  0 0 0 0 0 0 0 0 0 0 0 0 0 0 0 0 0 0 0 0 0 0 0 0 0 0 0 0 0 0 0 1 0 0 0 0\n",
      "  0 0 0 0 0 0 0 0 0 0 0 0 0 0 0 0 0 0 0 0 0 0 0 0 0 0 0 0 0 0 0 0 0 0 0 0\n",
      "  0 0 0 0 0 0 0 0 0 0 0 0 0 0 0 0 0 0 0 0 0 0 0 0 0 0 0 0 0 0 0 0 0 0 0 0\n",
      "  0 0 0 0 0 0 0 0 0 0 0 0 0 0 0 0 0 0 0 0 0 0 0 0 0 0 0 0 0 0 0 0 0 0 0 0\n",
      "  0 0 0 0 0 0 0 0 0 0 0 0 0 0 0 0 0 0 0 0 0 0 0 0 0 0 0 0 0 0 0 0 0 0 0 0\n",
      "  0 0 0 0 0 0 0 0 0 0 0 0 0 0 0 0 0 0 0 0 0 0 0 0 0 0 0 0 0 0 0 0 0 0 0 0\n",
      "  0 0 0 0 0 0 0 0 0 0 0 0 0 0 0 0 0 0 0 0 0 0 0 0 0 0 0 0 0 0 0 0 0 0 0 0\n",
      "  0 0 0 0 0 0 0 0 0 0 0 0 0 0 0 0 0 0 0 0 0 0 0 0 0 0 0 0 0 0 0 0 0 0 0 0\n",
      "  0 0 0 0 0 0 0 0 0 0 0 0 0 0 0 0 0 0 0 1 0 0 0 0 0 0 0 0 0 0 0 0 0 0 0 0\n",
      "  0 0 0 0 0 0 0 0 0 0 0 0 0 0 0 0 0 0 0 0 0 0 0 0 0 0 0 0 0 0 0 0 0 0 0 0\n",
      "  0 0 0 0 0 0 0 0 0 0 0 0 0 0 0 0 0 0 0 0 0 0 0 0 0 0 0 0 0 0 0 0 0 0 0 0\n",
      "  0 0 0 0 0 0 0 0 0 0 0 0 0 0 0 0 0 0 0 0 0 0 0 0 0 0 0 0 0 0 0 0 0 0 0 0\n",
      "  0 0 0 0 0 0 0 0 0 0 0 0 0 0 0 0 0 0 0 0 0 0 0 0 0 0 0 0 0 0 0 0 0 0 0 0\n",
      "  0 0 0 0 0 0 0 0 0 0 0 0 0 0 0 0 0 0 0 0 0 0 0 0 0 0 0 0 0 0 0 0 0 0 0 0\n",
      "  0 0 0 0 0 0 0 0 0 0 0 0 0 0 0 0 0 0 0 0 0 0 0 0 0 0 0 0 0 0 0 0 0 0 0 0\n",
      "  0 0 0 0 0 0 0 0 0 0 0 0 0 0 0 0 0 0 0 0 0 0 0 0 0 0 0 0 0 0 0 0 0 0 0 0\n",
      "  0 0 0 0 0 0 0 0 0 0 0 0 0 0 0 0 0 0 0 0 0 0 0 0 0 0 0 0 0 0 0 0 0 0 0 0\n",
      "  0 0 0 0 0 0 0 0 0 0 0 0 0 0 0 0 0 0 0 0 0 0 0 0 0 0 0 0 0 0 0 0 0 0 0 0\n",
      "  0 0 0 0 0 0 0 0 0 0 0 0 0 0 0 0 0 0 0 0 0 0 0 0 0 0 0 0 0 0 0 0 0 0 0 0\n",
      "  0 0 0 0 0 0 0 0 0 0 0 0 0 0 0 0 0 0 0 0 0 0 0 0 0 0 0 0 0 0 0 0 0 0 0 0\n",
      "  0 0 0 0 0 0 0 0 0 0 0 0 0 0 0 0 0 0 0 0 0 0 0 0 0 0 0 0 0 0 0 0 0 0 0 0\n",
      "  0 0 0 0 0 0 0 0 0 0 0 0 0 0 0 0 0 0 0 0 0 0 0 0 0 0 0 0 0 0 0 0 0 1 0 0\n",
      "  0 0 0 0 0 0 0 0 0 0 0 0 0 0 0 0 0 0 0 0 0 0 0 0 0 0 0 0]]\n",
      "يا جماعة الخير : Positive tweet\n",
      "يا جماعة الخير : Positive tweet\n",
      "يا جماعة الخير : Positive tweet\n"
     ]
    }
   ],
   "source": [
    "import re\n",
    "import nltk\n",
    "import joblib\n",
    "from nltk.tokenize import TweetTokenizer\n",
    "from sklearn.feature_extraction.text import CountVectorizer\n",
    "from sklearn.linear_model import LogisticRegression\n",
    "from sklearn.feature_extraction.text import CountVectorizer\n",
    "\n",
    "# Load the trained model\n",
    "model = joblib.load(\"tweets_model.joblib\")\n",
    "model1 = joblib.load(\"tweets_modelDecision Tree.joblib\")\n",
    "model2 = joblib.load(\"tweets_modelRandom Forest.joblib\")\n",
    "\n",
    "def contains_arabic(text):\n",
    "    arabic_pattern = re.compile('[\\u0600-\\u06FF\\u0750-\\u077F\\u08A0-\\u08FF\\uFB50-\\uFDFF\\uFE70-\\uFEFF\\uFB50-\\uFDFF]+')\n",
    "    return arabic_pattern.search(text) is not None\n",
    "\n",
    "def clean_tweet(tweet):\n",
    "    # Check if tweet contains Arabic characters\n",
    "    if contains_arabic(tweet):\n",
    "        # If it contains Arabic, apply cleaning for Arabic tweets\n",
    "        tweet = re.sub(r'https?://[^\\s]+', ' ', tweet)  # Remove URLs\n",
    "        tweet = re.sub(r'[^؀-ۿ]+', ' ', tweet)  # Remove non-Arabic characters\n",
    "        tweet = re.sub(r'\\W+', ' ', tweet)\n",
    "        tweet = ' '.join([w for w in tweet.split() if len(w) > 1])  # Remove single character words\n",
    "        tweet = ' '.join([lemma.lemmatize(x, nltk.corpus.reader.wordnet.VERB) for x in nltk.wordpunct_tokenize(tweet) if x not in stop_words])\n",
    "    else:\n",
    "        tweet = re.sub(r'https?://[^\\s]+', ' ', tweet)  # Remove URLs\n",
    "        tweet = re.sub(r'\\$[^\\s]+', ' ', tweet)        # Remove $symbols\n",
    "        tweet = re.sub(r'\\@[^\\s]+', ' ', tweet)        # Remove @mentions\n",
    "        tweet = re.sub(r'[^a-zA-Z\\'\\s]', ' ', tweet)  \n",
    "        tweet = ' '.join([w for w in tweet.split() if len(w) > 1])  # Remove single character words\n",
    "        tweet = ' '.join([lemma.lemmatize(x, nltk.corpus.reader.wordnet.VERB) for x in nltk.wordpunct_tokenize(tweet) if x not in stop_words])\n",
    "\n",
    "    return tweet\n",
    "\n",
    "\n",
    "new_tweets = [\"يا جماعة الخير\"]\n",
    "\n",
    "for new_tweet in new_tweets:\n",
    "    # Preprocess the new tweet\n",
    "    preprocessed_tweet = clean_tweet(new_tweet)\n",
    "    \n",
    "    preprocessed_tweet = TweetTokenizer().tokenize(preprocessed_tweet)\n",
    "    \n",
    "    # Transform the preprocessed tweet into BoW representation\n",
    "    bow_representation = bow.transform([\" \".join(preprocessed_tweet)]).toarray()\n",
    "    print(bow_representation)\n",
    "    # Use the trained model to predict the probability of the tweet belonging to each class\n",
    "    prediction_prob = model.predict_proba(bow_representation)\n",
    "    prediction_prob1 = model1.predict_proba(bow_representation)\n",
    "    prediction_prob2 = model2.predict_proba(bow_representation)\n",
    "    \n",
    "    threshold = 0.6  # You can adjust this threshold based on your model's performance\n",
    "    predicted_label = 1 if prediction_prob[0, 1] >= threshold else 0\n",
    "    predicted_label1 = 1 if prediction_prob1[0, 1] >= threshold else 0\n",
    "    predicted_label2 = 1 if prediction_prob2[0, 1] >= threshold else 0\n",
    "    \n",
    "    # Print the predicted label\n",
    "    if predicted_label == 1:\n",
    "        print(f\"{new_tweet} : Positive tweet\")\n",
    "    else:\n",
    "        print(f\"{new_tweet} : Negative tweet\")\n",
    "    if predicted_label1 == 1:\n",
    "        print(f\"{new_tweet} : Positive tweet\")\n",
    "    else:\n",
    "        print(f\"{new_tweet} : Negative tweet\")\n",
    "    if predicted_label2 == 1:\n",
    "        print(f\"{new_tweet} : Positive tweet\")\n",
    "    else:\n",
    "        print(f\"{new_tweet} : Negative tweet\")\n"
   ]
  },
  {
   "cell_type": "code",
   "execution_count": null,
   "id": "57c6c02a",
   "metadata": {},
   "outputs": [],
   "source": []
  },
  {
   "cell_type": "code",
   "execution_count": null,
   "id": "89530980-bb93-4c65-b01b-ce04a1c92208",
   "metadata": {},
   "outputs": [],
   "source": [
    "# we need to change that data set "
   ]
  }
 ],
 "metadata": {
  "accelerator": "GPU",
  "colab": {
   "gpuType": "T4",
   "provenance": []
  },
  "kernelspec": {
   "display_name": "Python 3 (ipykernel)",
   "language": "python",
   "name": "python3"
  },
  "language_info": {
   "codemirror_mode": {
    "name": "ipython",
    "version": 3
   },
   "file_extension": ".py",
   "mimetype": "text/x-python",
   "name": "python",
   "nbconvert_exporter": "python",
   "pygments_lexer": "ipython3",
   "version": "3.11.2"
  }
 },
 "nbformat": 4,
 "nbformat_minor": 5
}
